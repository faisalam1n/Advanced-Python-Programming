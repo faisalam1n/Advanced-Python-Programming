{
 "cells": [
  {
   "cell_type": "code",
   "execution_count": 1,
   "id": "cc93714b-2808-4294-adb8-9b8709240534",
   "metadata": {},
   "outputs": [],
   "source": [
    "import pandas as pd\n",
    "import matplotlib.pyplot as plt"
   ]
  },
  {
   "cell_type": "code",
   "execution_count": 2,
   "id": "aefd5616-c862-46ff-be47-8da7fdefa891",
   "metadata": {},
   "outputs": [
    {
     "name": "stdout",
     "output_type": "stream",
     "text": [
      "a    1\n",
      "b    7\n",
      "c    2\n",
      "dtype: int64\n"
     ]
    }
   ],
   "source": [
    "a = [1, 7, 2]\n",
    "myvar = pd.Series(a, index = [\"a\", \"b\", \"c\"])\n",
    "print(myvar)\n"
   ]
  },
  {
   "cell_type": "code",
   "execution_count": 3,
   "id": "7ae40bc6-4490-4465-8b15-100b01709238",
   "metadata": {},
   "outputs": [
    {
     "name": "stdout",
     "output_type": "stream",
     "text": [
      "7\n"
     ]
    }
   ],
   "source": [
    "print(myvar[\"b\"])"
   ]
  },
  {
   "cell_type": "code",
   "execution_count": 4,
   "id": "25dbf722-3dd4-4c89-8297-7a56a7a2b727",
   "metadata": {},
   "outputs": [
    {
     "name": "stdout",
     "output_type": "stream",
     "text": [
      "          Sno   Name  Mobile Gender Section\n",
      "student2    1  imran     343      M       B\n"
     ]
    }
   ],
   "source": [
    "data = {\n",
    "  \"Sno\": [0,1,2,3,4],\n",
    "  \"Name\": [\"Faisal\", \"Faiq\", \"Haseeb\", \"Fasih\", \"Asfand\"],\n",
    "  \"Mobile\" : [343,343,564,2343,6456],\n",
    "  \"Gender\" : [\"M\",\"M\",\"M\",\"M\",\"M\"],\n",
    "  \"Section\":[\"A\",\"B\",\"A\",\"B\",\"C\"]\n",
    "}\n",
    "#load data into a DataFrame object:\n",
    "df = pd.DataFrame(data,index = [\"student1\", \"student2\", \"student3\",\"student4\",\"student5\"])\n",
    "print(df.loc[[\"student2\"]]) "
   ]
  },
  {
   "cell_type": "code",
   "execution_count": 6,
   "id": "8d37e9cd-475f-4793-a9d3-eb3ea088c15d",
   "metadata": {},
   "outputs": [
    {
     "name": "stdout",
     "output_type": "stream",
     "text": [
      "       Date     Day  Temperature  Rainfall  Flyers  Price  Sales\n",
      "0  1/1/2017  Sunday         27.0      2.00      15    0.3     10\n",
      "1  2/1/2017  Monday         28.9      1.33      15    0.3     13\n"
     ]
    }
   ],
   "source": [
    "df = pd.read_csv('Lemonade.csv')\n",
    "print(df.head(2))"
   ]
  },
  {
   "cell_type": "code",
   "execution_count": null,
   "id": "bd87efa4-63ca-4e5d-a07e-e7e9ce42f4d0",
   "metadata": {},
   "outputs": [],
   "source": []
  }
 ],
 "metadata": {
  "kernelspec": {
   "display_name": "Python 3 (ipykernel)",
   "language": "python",
   "name": "python3"
  },
  "language_info": {
   "codemirror_mode": {
    "name": "ipython",
    "version": 3
   },
   "file_extension": ".py",
   "mimetype": "text/x-python",
   "name": "python",
   "nbconvert_exporter": "python",
   "pygments_lexer": "ipython3",
   "version": "3.8.6"
  }
 },
 "nbformat": 4,
 "nbformat_minor": 5
}
