{
 "cells": [
  {
   "cell_type": "code",
   "execution_count": 20,
   "id": "abe2eae8",
   "metadata": {},
   "outputs": [
    {
     "name": "stdout",
     "output_type": "stream",
     "text": [
      "Enter any character: o\n",
      "x is a vowel.\n"
     ]
    }
   ],
   "source": [
    "x = input('Enter any character: ')\n",
    "if x == 'a' or x == 'e' or x=='i' or x =='o' or x == 'u':\n",
    "    print(\"x is a vowel.\")\n",
    "    \n",
    "else:\n",
    "    print(\"x is a consunent.\")"
   ]
  },
  {
   "cell_type": "code",
   "execution_count": null,
   "id": "dbb143b2",
   "metadata": {},
   "outputs": [],
   "source": []
  }
 ],
 "metadata": {
  "kernelspec": {
   "display_name": "Python 3",
   "language": "python",
   "name": "python3"
  },
  "language_info": {
   "codemirror_mode": {
    "name": "ipython",
    "version": 3
   },
   "file_extension": ".py",
   "mimetype": "text/x-python",
   "name": "python",
   "nbconvert_exporter": "python",
   "pygments_lexer": "ipython3",
   "version": "3.8.8"
  }
 },
 "nbformat": 4,
 "nbformat_minor": 5
}
