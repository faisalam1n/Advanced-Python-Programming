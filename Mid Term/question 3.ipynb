{
 "cells": [
  {
   "cell_type": "code",
   "execution_count": 26,
   "id": "38025b3d",
   "metadata": {},
   "outputs": [
    {
     "name": "stdout",
     "output_type": "stream",
     "text": [
      "enter a value: 4\n"
     ]
    }
   ],
   "source": [
    "x = int(input(\"enter a value: \"))\n",
    "y = x\n",
    "fact = 1"
   ]
  },
  {
   "cell_type": "code",
   "execution_count": 27,
   "id": "ff922d2a",
   "metadata": {},
   "outputs": [
    {
     "name": "stdout",
     "output_type": "stream",
     "text": [
      "4\n",
      "3\n",
      "2\n",
      "1\n"
     ]
    }
   ],
   "source": [
    "if y > 0:\n",
    "    while y > 0:\n",
    "        print(y)\n",
    "        fact = y * fact\n",
    "        y = y - 1\n",
    "        \n",
    "else:\n",
    "    print('wrong value')"
   ]
  },
  {
   "cell_type": "code",
   "execution_count": 28,
   "id": "63e11572",
   "metadata": {},
   "outputs": [
    {
     "name": "stdout",
     "output_type": "stream",
     "text": [
      "The factorial of 4 = 24\n"
     ]
    }
   ],
   "source": [
    "print(\"The factorial of\", x, \"=\", fact)"
   ]
  },
  {
   "cell_type": "code",
   "execution_count": null,
   "id": "b5b0b878",
   "metadata": {},
   "outputs": [],
   "source": []
  }
 ],
 "metadata": {
  "kernelspec": {
   "display_name": "Python 3",
   "language": "python",
   "name": "python3"
  },
  "language_info": {
   "codemirror_mode": {
    "name": "ipython",
    "version": 3
   },
   "file_extension": ".py",
   "mimetype": "text/x-python",
   "name": "python",
   "nbconvert_exporter": "python",
   "pygments_lexer": "ipython3",
   "version": "3.8.8"
  }
 },
 "nbformat": 4,
 "nbformat_minor": 5
}
