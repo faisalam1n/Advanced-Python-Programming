{
 "cells": [
  {
   "cell_type": "code",
   "execution_count": 1,
   "id": "d330aafe",
   "metadata": {},
   "outputs": [],
   "source": [
    "arr = [[2, 11, 7, 12],[5, 2, 9, 15],[8, 3, 10, 42]]"
   ]
  },
  {
   "cell_type": "code",
   "execution_count": 20,
   "id": "143306e7",
   "metadata": {},
   "outputs": [
    {
     "name": "stdout",
     "output_type": "stream",
     "text": [
      "sum of row 1 = 32\n",
      "sum of row 2 = 31\n",
      "sum of row 3 = 63\n"
     ]
    }
   ],
   "source": [
    "print(\"sum of row 1 =\", sum(arr[:][0]))\n",
    "print(\"sum of row 2 =\", sum(arr[:][1]))\n",
    "print(\"sum of row 3 =\", sum(arr[:][2]))"
   ]
  },
  {
   "cell_type": "code",
   "execution_count": null,
   "id": "a2ef6e7c",
   "metadata": {},
   "outputs": [],
   "source": []
  }
 ],
 "metadata": {
  "kernelspec": {
   "display_name": "Python 3",
   "language": "python",
   "name": "python3"
  },
  "language_info": {
   "codemirror_mode": {
    "name": "ipython",
    "version": 3
   },
   "file_extension": ".py",
   "mimetype": "text/x-python",
   "name": "python",
   "nbconvert_exporter": "python",
   "pygments_lexer": "ipython3",
   "version": "3.8.8"
  }
 },
 "nbformat": 4,
 "nbformat_minor": 5
}
